{
 "cells": [
  {
   "cell_type": "code",
   "execution_count": null,
   "id": "d992584a",
   "metadata": {},
   "outputs": [],
   "source": [
    "import requests\n",
    "\n",
    "mandatory_cities = [\n",
    "    \"Augsburg\",\n",
    "    \"Ingolstadt\",\n",
    "    \"Regensburg\",\n",
    "    \"Landshut\",\n",
    "    \"Straubing\",\n",
    "    \"Passau\",\n",
    "    \"Deggendorf\",\n",
    "    \"Burghausen\",\n",
    "    \"Weißenburg, Bayern\",\n",
    "]\n",
    "\n",
    "optional_cities = [\n",
    "    \"Freising\",\n",
    "    \"Moosburg a.d. Isar\",\n",
    "    \"Vilsbiburg\",\n",
    "    \"Landau a.d. Isar\",\n",
    "    \"Mainburg\",\n",
    "    \"Abensberg\",\n",
    "    \"Schierling\",\n",
    "    \"Schrobenhausen\",\n",
    "    \"Erding\",\n",
    "    \"Pfarrkirchen\",\n",
    "    \"Osterhofen\",\n",
    "    \"Eichstätt\",\n",
    "    \"Neuburg a.d. Donau\",\n",
    "    \"Kösching\",\n",
    "    \"Pfaffenhofen a.d. Ilm\",\n",
    "]\n",
    "\n",
    "\n",
    "HEADERS = {\n",
    "    \"User-Agent\": \"graphentheory/1.0\"\n",
    "}\n",
    "\n",
    "def get_lat_long(city):\n",
    "    response = requests.get(\n",
    "        f\"https://nominatim.openstreetmap.org/search\",\n",
    "        params={\"city\": city, \"format\": \"json\"},\n",
    "        headers=HEADERS\n",
    "    )\n",
    "    response.raise_for_status()  # Raises an error if request failed\n",
    "    data = response.json()\n",
    "    if data:\n",
    "        return {\"lat\": data[0]['lat'], \"lon\": data[0]['lon']}\n",
    "    else:\n",
    "        print(f\"{city}: No results found\")\n",
    "\n",
    "cities_with_lat_lon = {}\n",
    "for city in [*mandatory_cities, *optional_cities]:\n",
    "    cities_with_lat_lon[city] = get_lat_long(city)"
   ]
  },
  {
   "cell_type": "code",
   "execution_count": null,
   "id": "8b09002c",
   "metadata": {},
   "outputs": [],
   "source": [
    "import json\n",
    "\n",
    "with open(\"city_coordinates.json\", \"w\") as f:\n",
    "    for v in cities_with_lat_lon.values():\n",
    "        v[\"lat\"] = float(v[\"lat\"])\n",
    "        v[\"lon\"] = float(v[\"lon\"])\n",
    "    json.dump(cities_with_lat_lon, f, indent=4)"
   ]
  },
  {
   "cell_type": "code",
   "execution_count": null,
   "id": "ce7e316f",
   "metadata": {},
   "outputs": [],
   "source": [
    "cities = [*mandatory_cities, *optional_cities]"
   ]
  },
  {
   "cell_type": "code",
   "execution_count": 52,
   "id": "c61439cb",
   "metadata": {},
   "outputs": [
    {
     "name": "stdout",
     "output_type": "stream",
     "text": [
      "min dist ('Augsburg', 'Augsburg') 0.0\n",
      "max dist ('Augsburg', 'Passau') 190.31931279878438\n"
     ]
    }
   ],
   "source": [
    "from calculate_distance import get_distance\n",
    "import pandas as pd\n",
    "\n",
    "min_dist = float(\"inf\")\n",
    "max_dist = 0\n",
    "\n",
    "min_dist_cities = ()\n",
    "max_dist_cities = ()\n",
    "\n",
    "distance_between_cities = []\n",
    "\n",
    "for city_1 in cities:\n",
    "    for city_2 in cities:\n",
    "        c1_lat_lon = cities_with_lat_lon[city_1]\n",
    "        c2_lat_lon = cities_with_lat_lon[city_2]\n",
    "\n",
    "        dist = get_distance(c1_lat_lon[\"lat\"], c1_lat_lon[\"lon\"], c2_lat_lon[\"lat\"], c2_lat_lon[\"lon\"])\n",
    "        if dist > max_dist:\n",
    "            max_dist_cities = (city_1, city_2)\n",
    "            max_dist = dist\n",
    "        if dist < min_dist:\n",
    "            min_dist_cities = (city_1, city_2)\n",
    "            min_dist = dist\n",
    "        distance_between_cities.append({\"from\": city_1, \"to\": city_2, \"distance\": dist})\n",
    "\n",
    "pd.DataFrame(distance_between_cities).to_csv(\"distances_between_cities.csv\")\n",
    "\n",
    "print(f\"min dist {min_dist_cities} {min_dist}\")\n",
    "print(f\"max dist {max_dist_cities} {max_dist}\")"
   ]
  },
  {
   "cell_type": "code",
   "execution_count": null,
   "id": "286bada7",
   "metadata": {},
   "outputs": [],
   "source": [
    "https://router.project-osrm.org/route/v1/driving/LON1,LAT1;LON2,LAT2?overview=false\n",
    "https://router.project-osrm.org/route/v1/driving/13.4609744,48.5748229;10.8979522,48.3690341?overview=false"
   ]
  },
  {
   "cell_type": "code",
   "execution_count": null,
   "id": "1c341c26",
   "metadata": {},
   "outputs": [],
   "source": [
    "def get_driving_distance(lat_1, lon_1, lat_2, lon_2):\n",
    "    response = requests.get(\n",
    "        f\"https://router.project-osrm.org/route/v1/driving/{lon_1},{lat_1};{lon_2},{lat_2}\",\n",
    "        params={\"overview\":\"false\"},\n",
    "        headers=HEADERS\n",
    "    ).json()\n",
    "    distance = float(\"inf\")\n",
    "    for route in response[\"routes\"]:\n",
    "        distance = min(distance, route[\"distance\"])\n",
    "    return distance\n",
    "\n",
    "#{'code': 'Ok', 'routes': [{'legs': [{'steps': [], 'weight': 9016.3, 'summary': '', 'duration': 9016.3, 'distance': 244460.6}], 'weight_name': 'routability', 'weight': 9016.3, 'duration': 9016.3, 'distance': 244460.6}], 'waypoints': [{'hint': 'GeIDhv___38PAAAAFQAAAHIAAAAAAAAAgqLbQHlLJUBFUUlCAAAAAA8AAAAVAAAAcgAAAAAAAADpEQEA4GXNAGk05QLuZc0AZzHlAgQAnwUAAAAA', 'location': [13.46096, 48.575593], 'name': 'Roßtränke', 'distance': 85.63138398}, {'hint': 'Ccd4gHruxYEVAAAAAAAAACEBAAAAAAAAxJoXQQAAAADQ4PBCAAAAABUAAAAAAAAAIQEAAAAAAADpEQEA8kqmAO4O4gIgSqYAig3iAhIA_woAAAAAee7Fgf___38AAAAAAgAAAAAAAAAyAAAAAAAAAN3Gvz8AAAAA8nkGQgAAAAACAAAAAAAAADIAAADpEQEA8kqmAO4O4gIgSqYAig3iAgAAHwUAAAAA', 'location': [10.898162, 48.36939], 'name': 'Karolinenstraße / Am Perlachberg', 'distance': 42.53366056}]}\n",
    "\n",
    "print(get_driving_distance(48.5748229, 13.4609744,48.3690341, 10.8979522))"
   ]
  },
  {
   "cell_type": "code",
   "execution_count": 49,
   "id": "812a5c1a",
   "metadata": {},
   "outputs": [],
   "source": [
    "driving_distances = {city: {} for city in cities}\n",
    "\n",
    "df = pd.read_csv(\"driving_distances_between_cities.csv\")\n",
    "for _, row in df.iterrows():\n",
    "    driving_distances[row[\"from\"]][row[\"to\"]] = row[\"distance\"]\n",
    "\n",
    "def save():\n",
    "    result_driving_distances = []\n",
    "    for from_city, to_cities in driving_distances.items():\n",
    "        for to_city, distance in to_cities.items():\n",
    "            result_driving_distances.append({\"from\": from_city, \"to\": to_city, \"distance\": distance})\n",
    "\n",
    "    pd.DataFrame(result_driving_distances).to_csv(\"driving_distances_between_cities.csv\")\n",
    "\n",
    "i=0\n",
    "for city_1 in cities:\n",
    "    for city_2 in cities:\n",
    "        if city_1 == city_2:\n",
    "            driving_distances[city_1][city_2] = 0\n",
    "            save()\n",
    "            continue\n",
    "        if city_2 in driving_distances[city_1]:\n",
    "            continue\n",
    "        c1_lat_lon = cities_with_lat_lon[city_1]\n",
    "        c2_lat_lon = cities_with_lat_lon[city_2]\n",
    "        i+=1\n",
    "        print(f\"from{city_1} {city_2}\")\n",
    "        distance = get_driving_distance(c1_lat_lon[\"lat\"], c1_lat_lon[\"lon\"], c2_lat_lon[\"lat\"], c2_lat_lon[\"lon\"])\n",
    "        driving_distances[city_1][city_2] = distance\n",
    "        driving_distances[city_2][city_1] = distance\n",
    "        save()"
   ]
  },
  {
   "cell_type": "code",
   "execution_count": 51,
   "id": "08d9615f",
   "metadata": {},
   "outputs": [
    {
     "name": "stdout",
     "output_type": "stream",
     "text": [
      "min dist ('Ingolstadt', 'Kösching') 9626.4\n",
      "max dist ('Passau', 'Weißenburg, Bayern') 261615.8\n"
     ]
    }
   ],
   "source": [
    "from calculate_distance import get_distance\n",
    "import pandas as pd\n",
    "\n",
    "min_dist = float(\"inf\")\n",
    "max_dist = 0\n",
    "\n",
    "min_dist_cities = ()\n",
    "max_dist_cities = ()\n",
    "\n",
    "for city_1 in cities:\n",
    "    for city_2 in cities:\n",
    "        if city_1 == city_2:\n",
    "            continue\n",
    "        dist = driving_distances[city_1][city_2]\n",
    "        if dist > max_dist:\n",
    "            max_dist_cities = (city_1, city_2)\n",
    "            max_dist = dist\n",
    "        if dist < min_dist:\n",
    "            min_dist_cities = (city_1, city_2)\n",
    "            min_dist = dist\n",
    "        \n",
    "print(f\"min dist {min_dist_cities} {min_dist}\")\n",
    "print(f\"max dist {max_dist_cities} {max_dist}\")"
   ]
  },
  {
   "cell_type": "code",
   "execution_count": null,
   "id": "655d847b",
   "metadata": {},
   "outputs": [],
   "source": []
  }
 ],
 "metadata": {
  "kernelspec": {
   "display_name": ".venv",
   "language": "python",
   "name": "python3"
  },
  "language_info": {
   "codemirror_mode": {
    "name": "ipython",
    "version": 3
   },
   "file_extension": ".py",
   "mimetype": "text/x-python",
   "name": "python",
   "nbconvert_exporter": "python",
   "pygments_lexer": "ipython3",
   "version": "3.12.7"
  }
 },
 "nbformat": 4,
 "nbformat_minor": 5
}
